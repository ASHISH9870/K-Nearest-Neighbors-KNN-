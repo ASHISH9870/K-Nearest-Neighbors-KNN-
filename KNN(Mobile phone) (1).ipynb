{
 "cells": [
  {
   "cell_type": "code",
   "execution_count": 28,
   "metadata": {},
   "outputs": [],
   "source": [
    "import numpy as np\n",
    "import pandas as pd"
   ]
  },
  {
   "cell_type": "code",
   "execution_count": 29,
   "metadata": {},
   "outputs": [],
   "source": [
    "data=pd.read_csv(r\"C:\\Users\\91987\\Downloads\\MarketPositioningofMobile\\Market Positioning of Mobile\\Dataset\\Mobile_data.csv\")"
   ]
  },
  {
   "cell_type": "code",
   "execution_count": 30,
   "metadata": {},
   "outputs": [
    {
     "name": "stdout",
     "output_type": "stream",
     "text": [
      "(2000, 15)\n"
     ]
    }
   ],
   "source": [
    "print(data.shape)"
   ]
  },
  {
   "cell_type": "code",
   "execution_count": 31,
   "metadata": {},
   "outputs": [
    {
     "data": {
      "text/html": [
       "<div>\n",
       "<style scoped>\n",
       "    .dataframe tbody tr th:only-of-type {\n",
       "        vertical-align: middle;\n",
       "    }\n",
       "\n",
       "    .dataframe tbody tr th {\n",
       "        vertical-align: top;\n",
       "    }\n",
       "\n",
       "    .dataframe thead th {\n",
       "        text-align: right;\n",
       "    }\n",
       "</style>\n",
       "<table border=\"1\" class=\"dataframe\">\n",
       "  <thead>\n",
       "    <tr style=\"text-align: right;\">\n",
       "      <th></th>\n",
       "      <th>battery_power</th>\n",
       "      <th>clock_speed</th>\n",
       "      <th>fc</th>\n",
       "      <th>int_memory</th>\n",
       "      <th>m_dep</th>\n",
       "      <th>mobile_wt</th>\n",
       "      <th>n_cores</th>\n",
       "      <th>pc</th>\n",
       "      <th>px_height</th>\n",
       "      <th>px_width</th>\n",
       "      <th>ram</th>\n",
       "      <th>sc_h</th>\n",
       "      <th>sc_w</th>\n",
       "      <th>talk_time</th>\n",
       "      <th>price_range</th>\n",
       "    </tr>\n",
       "  </thead>\n",
       "  <tbody>\n",
       "    <tr>\n",
       "      <th>0</th>\n",
       "      <td>842</td>\n",
       "      <td>2.2</td>\n",
       "      <td>1</td>\n",
       "      <td>7</td>\n",
       "      <td>0.6</td>\n",
       "      <td>188</td>\n",
       "      <td>2</td>\n",
       "      <td>2</td>\n",
       "      <td>20</td>\n",
       "      <td>756</td>\n",
       "      <td>2549</td>\n",
       "      <td>9</td>\n",
       "      <td>7</td>\n",
       "      <td>19</td>\n",
       "      <td>1</td>\n",
       "    </tr>\n",
       "    <tr>\n",
       "      <th>1</th>\n",
       "      <td>1021</td>\n",
       "      <td>0.5</td>\n",
       "      <td>0</td>\n",
       "      <td>53</td>\n",
       "      <td>0.7</td>\n",
       "      <td>136</td>\n",
       "      <td>3</td>\n",
       "      <td>6</td>\n",
       "      <td>905</td>\n",
       "      <td>1988</td>\n",
       "      <td>2631</td>\n",
       "      <td>17</td>\n",
       "      <td>3</td>\n",
       "      <td>7</td>\n",
       "      <td>2</td>\n",
       "    </tr>\n",
       "    <tr>\n",
       "      <th>2</th>\n",
       "      <td>563</td>\n",
       "      <td>0.5</td>\n",
       "      <td>2</td>\n",
       "      <td>41</td>\n",
       "      <td>0.9</td>\n",
       "      <td>145</td>\n",
       "      <td>5</td>\n",
       "      <td>6</td>\n",
       "      <td>1263</td>\n",
       "      <td>1716</td>\n",
       "      <td>2603</td>\n",
       "      <td>11</td>\n",
       "      <td>2</td>\n",
       "      <td>9</td>\n",
       "      <td>2</td>\n",
       "    </tr>\n",
       "    <tr>\n",
       "      <th>3</th>\n",
       "      <td>615</td>\n",
       "      <td>2.5</td>\n",
       "      <td>0</td>\n",
       "      <td>10</td>\n",
       "      <td>0.8</td>\n",
       "      <td>131</td>\n",
       "      <td>6</td>\n",
       "      <td>9</td>\n",
       "      <td>1216</td>\n",
       "      <td>1786</td>\n",
       "      <td>2769</td>\n",
       "      <td>16</td>\n",
       "      <td>8</td>\n",
       "      <td>11</td>\n",
       "      <td>2</td>\n",
       "    </tr>\n",
       "    <tr>\n",
       "      <th>4</th>\n",
       "      <td>1821</td>\n",
       "      <td>1.2</td>\n",
       "      <td>13</td>\n",
       "      <td>44</td>\n",
       "      <td>0.6</td>\n",
       "      <td>141</td>\n",
       "      <td>2</td>\n",
       "      <td>14</td>\n",
       "      <td>1208</td>\n",
       "      <td>1212</td>\n",
       "      <td>1411</td>\n",
       "      <td>8</td>\n",
       "      <td>2</td>\n",
       "      <td>15</td>\n",
       "      <td>1</td>\n",
       "    </tr>\n",
       "  </tbody>\n",
       "</table>\n",
       "</div>"
      ],
      "text/plain": [
       "   battery_power  clock_speed  fc  int_memory  m_dep  mobile_wt  n_cores  pc  \\\n",
       "0            842          2.2   1           7    0.6        188        2   2   \n",
       "1           1021          0.5   0          53    0.7        136        3   6   \n",
       "2            563          0.5   2          41    0.9        145        5   6   \n",
       "3            615          2.5   0          10    0.8        131        6   9   \n",
       "4           1821          1.2  13          44    0.6        141        2  14   \n",
       "\n",
       "   px_height  px_width   ram  sc_h  sc_w  talk_time  price_range  \n",
       "0         20       756  2549     9     7         19            1  \n",
       "1        905      1988  2631    17     3          7            2  \n",
       "2       1263      1716  2603    11     2          9            2  \n",
       "3       1216      1786  2769    16     8         11            2  \n",
       "4       1208      1212  1411     8     2         15            1  "
      ]
     },
     "execution_count": 31,
     "metadata": {},
     "output_type": "execute_result"
    }
   ],
   "source": [
    "data.head()"
   ]
  },
  {
   "cell_type": "code",
   "execution_count": 32,
   "metadata": {},
   "outputs": [
    {
     "data": {
      "text/html": [
       "<div>\n",
       "<style scoped>\n",
       "    .dataframe tbody tr th:only-of-type {\n",
       "        vertical-align: middle;\n",
       "    }\n",
       "\n",
       "    .dataframe tbody tr th {\n",
       "        vertical-align: top;\n",
       "    }\n",
       "\n",
       "    .dataframe thead th {\n",
       "        text-align: right;\n",
       "    }\n",
       "</style>\n",
       "<table border=\"1\" class=\"dataframe\">\n",
       "  <thead>\n",
       "    <tr style=\"text-align: right;\">\n",
       "      <th></th>\n",
       "      <th>battery_power</th>\n",
       "      <th>clock_speed</th>\n",
       "      <th>fc</th>\n",
       "      <th>int_memory</th>\n",
       "      <th>m_dep</th>\n",
       "      <th>mobile_wt</th>\n",
       "      <th>n_cores</th>\n",
       "      <th>pc</th>\n",
       "      <th>px_height</th>\n",
       "      <th>px_width</th>\n",
       "      <th>ram</th>\n",
       "      <th>sc_h</th>\n",
       "      <th>sc_w</th>\n",
       "      <th>talk_time</th>\n",
       "      <th>price_range</th>\n",
       "    </tr>\n",
       "  </thead>\n",
       "  <tbody>\n",
       "    <tr>\n",
       "      <th>count</th>\n",
       "      <td>2000.000000</td>\n",
       "      <td>2000.000000</td>\n",
       "      <td>2000.000000</td>\n",
       "      <td>2000.000000</td>\n",
       "      <td>2000.000000</td>\n",
       "      <td>2000.000000</td>\n",
       "      <td>2000.000000</td>\n",
       "      <td>2000.000000</td>\n",
       "      <td>2000.000000</td>\n",
       "      <td>2000.000000</td>\n",
       "      <td>2000.000000</td>\n",
       "      <td>2000.000000</td>\n",
       "      <td>2000.000000</td>\n",
       "      <td>2000.000000</td>\n",
       "      <td>2000.000000</td>\n",
       "    </tr>\n",
       "    <tr>\n",
       "      <th>mean</th>\n",
       "      <td>1238.518500</td>\n",
       "      <td>1.522250</td>\n",
       "      <td>4.309500</td>\n",
       "      <td>32.046500</td>\n",
       "      <td>0.501750</td>\n",
       "      <td>140.249000</td>\n",
       "      <td>4.520500</td>\n",
       "      <td>9.916500</td>\n",
       "      <td>645.108000</td>\n",
       "      <td>1251.515500</td>\n",
       "      <td>2124.213000</td>\n",
       "      <td>12.306500</td>\n",
       "      <td>5.767000</td>\n",
       "      <td>11.011000</td>\n",
       "      <td>1.500000</td>\n",
       "    </tr>\n",
       "    <tr>\n",
       "      <th>std</th>\n",
       "      <td>439.418206</td>\n",
       "      <td>0.816004</td>\n",
       "      <td>4.341444</td>\n",
       "      <td>18.145715</td>\n",
       "      <td>0.288416</td>\n",
       "      <td>35.399655</td>\n",
       "      <td>2.287837</td>\n",
       "      <td>6.064315</td>\n",
       "      <td>443.780811</td>\n",
       "      <td>432.199447</td>\n",
       "      <td>1084.732044</td>\n",
       "      <td>4.213245</td>\n",
       "      <td>4.356398</td>\n",
       "      <td>5.463955</td>\n",
       "      <td>1.118314</td>\n",
       "    </tr>\n",
       "    <tr>\n",
       "      <th>min</th>\n",
       "      <td>501.000000</td>\n",
       "      <td>0.500000</td>\n",
       "      <td>0.000000</td>\n",
       "      <td>2.000000</td>\n",
       "      <td>0.100000</td>\n",
       "      <td>80.000000</td>\n",
       "      <td>1.000000</td>\n",
       "      <td>0.000000</td>\n",
       "      <td>0.000000</td>\n",
       "      <td>500.000000</td>\n",
       "      <td>256.000000</td>\n",
       "      <td>5.000000</td>\n",
       "      <td>0.000000</td>\n",
       "      <td>2.000000</td>\n",
       "      <td>0.000000</td>\n",
       "    </tr>\n",
       "    <tr>\n",
       "      <th>25%</th>\n",
       "      <td>851.750000</td>\n",
       "      <td>0.700000</td>\n",
       "      <td>1.000000</td>\n",
       "      <td>16.000000</td>\n",
       "      <td>0.200000</td>\n",
       "      <td>109.000000</td>\n",
       "      <td>3.000000</td>\n",
       "      <td>5.000000</td>\n",
       "      <td>282.750000</td>\n",
       "      <td>874.750000</td>\n",
       "      <td>1207.500000</td>\n",
       "      <td>9.000000</td>\n",
       "      <td>2.000000</td>\n",
       "      <td>6.000000</td>\n",
       "      <td>0.750000</td>\n",
       "    </tr>\n",
       "    <tr>\n",
       "      <th>50%</th>\n",
       "      <td>1226.000000</td>\n",
       "      <td>1.500000</td>\n",
       "      <td>3.000000</td>\n",
       "      <td>32.000000</td>\n",
       "      <td>0.500000</td>\n",
       "      <td>141.000000</td>\n",
       "      <td>4.000000</td>\n",
       "      <td>10.000000</td>\n",
       "      <td>564.000000</td>\n",
       "      <td>1247.000000</td>\n",
       "      <td>2146.500000</td>\n",
       "      <td>12.000000</td>\n",
       "      <td>5.000000</td>\n",
       "      <td>11.000000</td>\n",
       "      <td>1.500000</td>\n",
       "    </tr>\n",
       "    <tr>\n",
       "      <th>75%</th>\n",
       "      <td>1615.250000</td>\n",
       "      <td>2.200000</td>\n",
       "      <td>7.000000</td>\n",
       "      <td>48.000000</td>\n",
       "      <td>0.800000</td>\n",
       "      <td>170.000000</td>\n",
       "      <td>7.000000</td>\n",
       "      <td>15.000000</td>\n",
       "      <td>947.250000</td>\n",
       "      <td>1633.000000</td>\n",
       "      <td>3064.500000</td>\n",
       "      <td>16.000000</td>\n",
       "      <td>9.000000</td>\n",
       "      <td>16.000000</td>\n",
       "      <td>2.250000</td>\n",
       "    </tr>\n",
       "    <tr>\n",
       "      <th>max</th>\n",
       "      <td>1998.000000</td>\n",
       "      <td>3.000000</td>\n",
       "      <td>19.000000</td>\n",
       "      <td>64.000000</td>\n",
       "      <td>1.000000</td>\n",
       "      <td>200.000000</td>\n",
       "      <td>8.000000</td>\n",
       "      <td>20.000000</td>\n",
       "      <td>1960.000000</td>\n",
       "      <td>1998.000000</td>\n",
       "      <td>3998.000000</td>\n",
       "      <td>19.000000</td>\n",
       "      <td>18.000000</td>\n",
       "      <td>20.000000</td>\n",
       "      <td>3.000000</td>\n",
       "    </tr>\n",
       "  </tbody>\n",
       "</table>\n",
       "</div>"
      ],
      "text/plain": [
       "       battery_power  clock_speed           fc   int_memory        m_dep  \\\n",
       "count    2000.000000  2000.000000  2000.000000  2000.000000  2000.000000   \n",
       "mean     1238.518500     1.522250     4.309500    32.046500     0.501750   \n",
       "std       439.418206     0.816004     4.341444    18.145715     0.288416   \n",
       "min       501.000000     0.500000     0.000000     2.000000     0.100000   \n",
       "25%       851.750000     0.700000     1.000000    16.000000     0.200000   \n",
       "50%      1226.000000     1.500000     3.000000    32.000000     0.500000   \n",
       "75%      1615.250000     2.200000     7.000000    48.000000     0.800000   \n",
       "max      1998.000000     3.000000    19.000000    64.000000     1.000000   \n",
       "\n",
       "         mobile_wt      n_cores           pc    px_height     px_width  \\\n",
       "count  2000.000000  2000.000000  2000.000000  2000.000000  2000.000000   \n",
       "mean    140.249000     4.520500     9.916500   645.108000  1251.515500   \n",
       "std      35.399655     2.287837     6.064315   443.780811   432.199447   \n",
       "min      80.000000     1.000000     0.000000     0.000000   500.000000   \n",
       "25%     109.000000     3.000000     5.000000   282.750000   874.750000   \n",
       "50%     141.000000     4.000000    10.000000   564.000000  1247.000000   \n",
       "75%     170.000000     7.000000    15.000000   947.250000  1633.000000   \n",
       "max     200.000000     8.000000    20.000000  1960.000000  1998.000000   \n",
       "\n",
       "               ram         sc_h         sc_w    talk_time  price_range  \n",
       "count  2000.000000  2000.000000  2000.000000  2000.000000  2000.000000  \n",
       "mean   2124.213000    12.306500     5.767000    11.011000     1.500000  \n",
       "std    1084.732044     4.213245     4.356398     5.463955     1.118314  \n",
       "min     256.000000     5.000000     0.000000     2.000000     0.000000  \n",
       "25%    1207.500000     9.000000     2.000000     6.000000     0.750000  \n",
       "50%    2146.500000    12.000000     5.000000    11.000000     1.500000  \n",
       "75%    3064.500000    16.000000     9.000000    16.000000     2.250000  \n",
       "max    3998.000000    19.000000    18.000000    20.000000     3.000000  "
      ]
     },
     "execution_count": 32,
     "metadata": {},
     "output_type": "execute_result"
    }
   ],
   "source": [
    "data.describe(include='all')"
   ]
  },
  {
   "cell_type": "code",
   "execution_count": 33,
   "metadata": {},
   "outputs": [
    {
     "data": {
      "text/plain": [
       "battery_power    0\n",
       "clock_speed      0\n",
       "fc               0\n",
       "int_memory       0\n",
       "m_dep            0\n",
       "mobile_wt        0\n",
       "n_cores          0\n",
       "pc               0\n",
       "px_height        0\n",
       "px_width         0\n",
       "ram              0\n",
       "sc_h             0\n",
       "sc_w             0\n",
       "talk_time        0\n",
       "price_range      0\n",
       "dtype: int64"
      ]
     },
     "execution_count": 33,
     "metadata": {},
     "output_type": "execute_result"
    }
   ],
   "source": [
    "data.isnull().sum()"
   ]
  },
  {
   "cell_type": "code",
   "execution_count": 34,
   "metadata": {},
   "outputs": [],
   "source": [
    "X=data.values[:,0:-1]\n",
    "Y=data.values[:,-1]"
   ]
  },
  {
   "cell_type": "code",
   "execution_count": 35,
   "metadata": {},
   "outputs": [
    {
     "data": {
      "text/plain": [
       "(2000, 14)"
      ]
     },
     "execution_count": 35,
     "metadata": {},
     "output_type": "execute_result"
    }
   ],
   "source": [
    "X.shape"
   ]
  },
  {
   "cell_type": "code",
   "execution_count": 36,
   "metadata": {},
   "outputs": [
    {
     "data": {
      "text/plain": [
       "(2000,)"
      ]
     },
     "execution_count": 36,
     "metadata": {},
     "output_type": "execute_result"
    }
   ],
   "source": [
    "Y.shape"
   ]
  },
  {
   "cell_type": "code",
   "execution_count": 37,
   "metadata": {},
   "outputs": [],
   "source": [
    "from sklearn.preprocessing import StandardScaler\n",
    "scaler=StandardScaler()\n",
    "scaler.fit(X)\n",
    "X=scaler.transform(X)\n",
    "#X=scaler.fit_transform(X)\n",
    "#print(X)"
   ]
  },
  {
   "cell_type": "code",
   "execution_count": 38,
   "metadata": {},
   "outputs": [
    {
     "name": "stdout",
     "output_type": "stream",
     "text": [
      "[[-0.90259726  0.83077942 -0.76249466 ... -0.78498329  0.2831028\n",
      "   1.46249332]\n",
      " [-0.49513857 -1.2530642  -0.99289039 ...  1.11426556 -0.63531667\n",
      "  -0.73426721]\n",
      " [-1.5376865  -1.2530642  -0.53209893 ... -0.31017108 -0.86492153\n",
      "  -0.36814045]\n",
      " ...\n",
      " [ 1.53077336 -0.76274805 -0.76249466 ... -0.78498329 -1.0945264\n",
      "  -1.10039396]\n",
      " [ 0.62252745 -0.76274805 -0.07130748 ...  1.35167167  0.9719174\n",
      "   1.46249332]\n",
      " [-1.65833069  0.58562134  0.15908825 ...  1.58907778 -0.4057118\n",
      "  -1.6495841 ]]\n"
     ]
    }
   ],
   "source": [
    "print(X)"
   ]
  },
  {
   "cell_type": "code",
   "execution_count": 39,
   "metadata": {},
   "outputs": [],
   "source": [
    "Y=Y.astype(int)"
   ]
  },
  {
   "cell_type": "code",
   "execution_count": 40,
   "metadata": {},
   "outputs": [],
   "source": [
    "from sklearn.model_selection import train_test_split\n",
    "# Split the data into test and train\n",
    "X_train,X_test,Y_train,Y_test=train_test_split(X,Y,test_size=0.2,random_state=10)"
   ]
  },
  {
   "cell_type": "code",
   "execution_count": 41,
   "metadata": {},
   "outputs": [
    {
     "name": "stdout",
     "output_type": "stream",
     "text": [
      "(1600, 14)\n",
      "(1600,)\n",
      "(400, 14)\n",
      "(400,)\n"
     ]
    }
   ],
   "source": [
    "print(X_train.shape)\n",
    "print(Y_train.shape)\n",
    "print(X_test.shape)\n",
    "print(Y_test.shape)"
   ]
  },
  {
   "cell_type": "code",
   "execution_count": 49,
   "metadata": {},
   "outputs": [],
   "source": [
    "# Predicting using the KNeighbors _Classifier\n",
    "from sklearn.neighbors import KNeighborsClassifier\n",
    "model_KNN=KNeighborsClassifier(n_neighbors=30,metric='manhattan')\n",
    "\n",
    "# euclidean, manhattan,minkowski\n",
    "# fit the model on the data and predict the values \n",
    "model_KNN.fit(X_train,Y_train)\n",
    "\n",
    "Y_pred=model_KNN.predict(X_test)"
   ]
  },
  {
   "cell_type": "code",
   "execution_count": 50,
   "metadata": {},
   "outputs": [
    {
     "data": {
      "text/plain": [
       "array([3, 2, 1, 3, 0, 3, 2, 3, 1, 3, 2, 3, 0, 1, 0, 3, 1, 3, 3, 2, 3, 2,\n",
       "       0, 1, 0, 0, 3, 3, 1, 1, 2, 1, 3, 2, 2, 2, 1, 0, 1, 0, 3, 2, 2, 1,\n",
       "       1, 3, 1, 0, 0, 2, 1, 2, 2, 2, 2, 3, 2, 3, 0, 0, 1, 1, 0, 0, 2, 0,\n",
       "       2, 0, 2, 2, 2, 2, 0, 1, 3, 2, 3, 3, 2, 1, 2, 0, 1, 0, 0, 3, 2, 3,\n",
       "       3, 3, 2, 3, 3, 3, 3, 1, 0, 0, 0, 1, 2, 0, 1, 2, 1, 3, 2, 1, 1, 2,\n",
       "       2, 0, 3, 1, 2, 1, 1, 1, 3, 0, 0, 1, 3, 1, 1, 3, 1, 3, 2, 0, 3, 2,\n",
       "       3, 0, 3, 0, 0, 3, 3, 1, 2, 0, 3, 2, 0, 3, 2, 2, 2, 0, 1, 0, 0, 2,\n",
       "       1, 1, 0, 0, 2, 0, 1, 3, 3, 2, 1, 2, 1, 1, 2, 0, 3, 3, 3, 2, 0, 2,\n",
       "       2, 2, 2, 1, 1, 2, 2, 2, 3, 0, 1, 3, 0, 2, 0, 2, 1, 3, 2, 0, 0, 0,\n",
       "       0, 3, 1, 3, 3, 3, 3, 2, 2, 1, 2, 0, 2, 1, 1, 3, 2, 0, 3, 1, 2, 1,\n",
       "       3, 2, 0, 3, 0, 1, 2, 2, 1, 2, 1, 1, 0, 3, 0, 2, 0, 2, 0, 3, 0, 2,\n",
       "       1, 1, 1, 2, 2, 3, 0, 2, 1, 1, 0, 3, 1, 2, 2, 1, 1, 3, 3, 1, 1, 2,\n",
       "       3, 2, 3, 0, 2, 2, 3, 2, 0, 3, 0, 3, 1, 2, 2, 0, 3, 3, 0, 1, 1, 2,\n",
       "       2, 0, 0, 1, 2, 0, 3, 3, 2, 1, 2, 0, 0, 2, 0, 3, 2, 2, 1, 0, 0, 2,\n",
       "       1, 1, 0, 2, 1, 2, 1, 0, 0, 0, 2, 3, 0, 1, 0, 2, 0, 1, 2, 1, 2, 3,\n",
       "       2, 1, 1, 1, 2, 2, 2, 2, 2, 3, 1, 1, 2, 0, 3, 0, 1, 3, 0, 1, 0, 1,\n",
       "       2, 2, 3, 3, 0, 3, 3, 1, 2, 3, 0, 2, 1, 2, 2, 0, 2, 0, 0, 3, 0, 1,\n",
       "       2, 1, 0, 3, 0, 0, 2, 1, 0, 0, 0, 3, 0, 3, 3, 0, 0, 1, 0, 3, 2, 3,\n",
       "       1, 0, 2, 1])"
      ]
     },
     "execution_count": 50,
     "metadata": {},
     "output_type": "execute_result"
    }
   ],
   "source": [
    "Y_pred"
   ]
  },
  {
   "cell_type": "code",
   "execution_count": 51,
   "metadata": {},
   "outputs": [
    {
     "name": "stdout",
     "output_type": "stream",
     "text": [
      "[[83  9  0  0]\n",
      " [17 64 16  0]\n",
      " [ 0 21 78 10]\n",
      " [ 0  0 21 81]]\n",
      "Classification report: \n",
      "              precision    recall  f1-score   support\n",
      "\n",
      "           0       0.83      0.90      0.86        92\n",
      "           1       0.68      0.66      0.67        97\n",
      "           2       0.68      0.72      0.70       109\n",
      "           3       0.89      0.79      0.84       102\n",
      "\n",
      "    accuracy                           0.77       400\n",
      "   macro avg       0.77      0.77      0.77       400\n",
      "weighted avg       0.77      0.77      0.77       400\n",
      "\n",
      "Accuracy of the model:  0.765\n"
     ]
    }
   ],
   "source": [
    "from sklearn.metrics import confusion_matrix, accuracy_score, classification_report\n",
    "\n",
    "cfm=confusion_matrix(Y_test,Y_pred)\n",
    "print(cfm)\n",
    "\n",
    "print(\"Classification report: \")\n",
    "\n",
    "print(classification_report(Y_test,Y_pred))\n",
    "\n",
    "acc=accuracy_score(Y_test, Y_pred)\n",
    "print(\"Accuracy of the model: \",acc)"
   ]
  },
  {
   "cell_type": "code",
   "execution_count": 52,
   "metadata": {},
   "outputs": [
    {
     "name": "stdout",
     "output_type": "stream",
     "text": [
      "Accuracy is  0.53 for K-Value: 1\n",
      "Accuracy is  0.4875 for K-Value: 2\n",
      "Accuracy is  0.54 for K-Value: 3\n",
      "Accuracy is  0.5775 for K-Value: 4\n",
      "Accuracy is  0.615 for K-Value: 5\n",
      "Accuracy is  0.625 for K-Value: 6\n",
      "Accuracy is  0.64 for K-Value: 7\n",
      "Accuracy is  0.68 for K-Value: 8\n",
      "Accuracy is  0.6625 for K-Value: 9\n",
      "Accuracy is  0.6825 for K-Value: 10\n",
      "Accuracy is  0.695 for K-Value: 11\n",
      "Accuracy is  0.7125 for K-Value: 12\n",
      "Accuracy is  0.695 for K-Value: 13\n",
      "Accuracy is  0.705 for K-Value: 14\n",
      "Accuracy is  0.7075 for K-Value: 15\n",
      "Accuracy is  0.71 for K-Value: 16\n",
      "Accuracy is  0.715 for K-Value: 17\n",
      "Accuracy is  0.72 for K-Value: 18\n",
      "Accuracy is  0.7175 for K-Value: 19\n",
      "Accuracy is  0.7325 for K-Value: 20\n",
      "Accuracy is  0.7175 for K-Value: 21\n",
      "Accuracy is  0.7175 for K-Value: 22\n",
      "Accuracy is  0.7275 for K-Value: 23\n",
      "Accuracy is  0.7325 for K-Value: 24\n",
      "Accuracy is  0.7375 for K-Value: 25\n",
      "Accuracy is  0.74 for K-Value: 26\n",
      "Accuracy is  0.7475 for K-Value: 27\n",
      "Accuracy is  0.74 for K-Value: 28\n",
      "Accuracy is  0.7575 for K-Value: 29\n",
      "Accuracy is  0.765 for K-Value: 30\n",
      "Accuracy is  0.7525 for K-Value: 31\n",
      "Accuracy is  0.7475 for K-Value: 32\n",
      "Accuracy is  0.7325 for K-Value: 33\n",
      "Accuracy is  0.7275 for K-Value: 34\n",
      "Accuracy is  0.7425 for K-Value: 35\n",
      "Accuracy is  0.7475 for K-Value: 36\n",
      "Accuracy is  0.725 for K-Value: 37\n",
      "Accuracy is  0.7375 for K-Value: 38\n",
      "Accuracy is  0.7475 for K-Value: 39\n",
      "Accuracy is  0.7425 for K-Value: 40\n",
      "Accuracy is  0.7175 for K-Value: 41\n",
      "Accuracy is  0.735 for K-Value: 42\n",
      "Accuracy is  0.7325 for K-Value: 43\n",
      "Accuracy is  0.7375 for K-Value: 44\n",
      "Accuracy is  0.74 for K-Value: 45\n",
      "Accuracy is  0.745 for K-Value: 46\n",
      "Accuracy is  0.7325 for K-Value: 47\n",
      "Accuracy is  0.7475 for K-Value: 48\n",
      "Accuracy is  0.7575 for K-Value: 49\n",
      "Accuracy is  0.76 for K-Value: 50\n"
     ]
    }
   ],
   "source": [
    "# checking various k values which is best suitable\n",
    "from sklearn.metrics import accuracy_score\n",
    "my_dict={}\n",
    "for K in range(1,51):\n",
    "    model_KNN = KNeighborsClassifier(n_neighbors=K,metric=\"manhattan\")\n",
    "    model_KNN.fit(X_train, Y_train) \n",
    "    Y_pred = model_KNN.predict(X_test)\n",
    "    print (\"Accuracy is \", accuracy_score(Y_test,Y_pred), \"for K-Value:\",K)\n",
    "    my_dict[K]=accuracy_score(Y_test,Y_pred)"
   ]
  },
  {
   "cell_type": "code",
   "execution_count": 53,
   "metadata": {},
   "outputs": [
    {
     "name": "stdout",
     "output_type": "stream",
     "text": [
      "30 : 0.765\n"
     ]
    }
   ],
   "source": [
    "for k in my_dict:\n",
    "    if my_dict[k]==max(my_dict.values()):\n",
    "        print(k,\":\",my_dict[k])"
   ]
  },
  {
   "cell_type": "code",
   "execution_count": 54,
   "metadata": {},
   "outputs": [
    {
     "name": "stdout",
     "output_type": "stream",
     "text": [
      "[3 3 2 3 1 3 3 3 1 3 2 3 0 1 0 3 2 3 2 2 3 2 0 1 0 0 2 3 1 1 2 0 3 2 2 2 1\n",
      " 1 2 0 3 2 2 0 1 3 1 0 1 2 1 3 2 3 2 3 2 3 0 0 1 1 0 0 2 0 2 1 2 3 2 2 1 1\n",
      " 3 1 3 3 2 1 2 0 0 0 0 3 2 3 3 3 2 3 3 3 3 1 0 1 0 1 3 0 1 1 1 3 2 1 2 2 2\n",
      " 0 3 1 2 1 1 2 3 0 1 0 3 2 1 3 0 3 2 0 3 3 3 1 2 0 0 3 3 1 3 0 3 2 0 3 3 1\n",
      " 2 0 1 0 0 1 1 1 0 0 2 1 1 2 3 2 2 2 0 1 1 1 3 3 3 2 0 2 3 2 2 2 1 2 2 2 3\n",
      " 0 2 3 0 2 0 2 1 3 2 0 0 0 0 3 1 3 3 3 2 2 1 2 2 1 2 1 1 3 2 0 3 1 2 1 3 2\n",
      " 0 3 0 1 2 2 1 0 1 1 0 3 0 1 0 2 0 3 1 2 0 1 1 2 2 3 0 3 2 1 0 3 2 1 2 1 0\n",
      " 3 3 1 1 1 3 2 3 0 2 2 2 2 0 3 0 3 1 1 2 0 3 3 0 1 1 1 3 0 0 1 1 0 2 2 2 1\n",
      " 2 0 0 3 1 3 2 2 1 0 1 1 2 1 0 1 1 2 2 0 0 0 3 3 0 1 0 2 0 0 2 1 2 3 1 1 1\n",
      " 1 2 2 2 2 2 2 2 2 3 0 3 1 1 3 0 1 0 1 3 2 3 3 0 3 3 1 1 2 0 3 0 3 2 0 2 0\n",
      " 0 3 0 1 2 2 0 3 0 0 3 2 0 0 0 3 1 3 3 1 0 1 0 3 3 3 1 0 2 1]\n"
     ]
    }
   ],
   "source": [
    "from sklearn.linear_model import LogisticRegression\n",
    "#create a model\n",
    "classifier=LogisticRegression()\n",
    "#fitting training data to the model\n",
    "classifier.fit(X_train,Y_train)\n",
    "\n",
    "Y_pred=classifier.predict(X_test)\n",
    "print(Y_pred)"
   ]
  },
  {
   "cell_type": "code",
   "execution_count": 55,
   "metadata": {},
   "outputs": [
    {
     "name": "stdout",
     "output_type": "stream",
     "text": [
      "[[ 92   0   0   0]\n",
      " [  2  94   1   0]\n",
      " [  0   5 102   2]\n",
      " [  0   0   3  99]]\n",
      "Classification report: \n",
      "              precision    recall  f1-score   support\n",
      "\n",
      "           0       0.98      1.00      0.99        92\n",
      "           1       0.95      0.97      0.96        97\n",
      "           2       0.96      0.94      0.95       109\n",
      "           3       0.98      0.97      0.98       102\n",
      "\n",
      "    accuracy                           0.97       400\n",
      "   macro avg       0.97      0.97      0.97       400\n",
      "weighted avg       0.97      0.97      0.97       400\n",
      "\n",
      "Accuracy of the model:  0.9675\n"
     ]
    }
   ],
   "source": [
    "from sklearn.metrics import confusion_matrix, accuracy_score, classification_report\n",
    "\n",
    "cfm=confusion_matrix(Y_test,Y_pred)\n",
    "print(cfm)\n",
    "\n",
    "print(\"Classification report: \")\n",
    "\n",
    "print(classification_report(Y_test,Y_pred))\n",
    "\n",
    "acc=accuracy_score(Y_test, Y_pred)\n",
    "print(\"Accuracy of the model: \",acc)"
   ]
  },
  {
   "cell_type": "code",
   "execution_count": null,
   "metadata": {},
   "outputs": [],
   "source": []
  },
  {
   "cell_type": "code",
   "execution_count": null,
   "metadata": {},
   "outputs": [],
   "source": []
  }
 ],
 "metadata": {
  "kernelspec": {
   "display_name": "Python 3",
   "language": "python",
   "name": "python3"
  },
  "language_info": {
   "codemirror_mode": {
    "name": "ipython",
    "version": 3
   },
   "file_extension": ".py",
   "mimetype": "text/x-python",
   "name": "python",
   "nbconvert_exporter": "python",
   "pygments_lexer": "ipython3",
   "version": "3.7.6"
  }
 },
 "nbformat": 4,
 "nbformat_minor": 4
}
